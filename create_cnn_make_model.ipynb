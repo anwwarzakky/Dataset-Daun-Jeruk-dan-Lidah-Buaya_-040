{
  "nbformat": 4,
  "nbformat_minor": 0,
  "metadata": {
    "colab": {
      "name": "create_cnn_make_model.ipynb",
      "provenance": [],
      "collapsed_sections": [],
      "include_colab_link": true
    },
    "kernelspec": {
      "name": "python3",
      "display_name": "Python 3"
    },
    "language_info": {
      "name": "python"
    }
  },
  "cells": [
    {
      "cell_type": "markdown",
      "metadata": {
        "id": "view-in-github",
        "colab_type": "text"
      },
      "source": [
        "<a href=\"https://colab.research.google.com/github/arsyadgiri11/KecerdasanBuatan5E/blob/main/create_cnn_make_model.ipynb\" target=\"_parent\"><img src=\"https://colab.research.google.com/assets/colab-badge.svg\" alt=\"Open In Colab\"/></a>"
      ]
    },
    {
      "cell_type": "code",
      "execution_count": 27,
      "metadata": {
        "id": "6AlhDL6YiaPq"
      },
      "outputs": [],
      "source": [
        "from sklearn.model_selection import train_test_split\n",
        "from sklearn.preprocessing import LabelEncoder\n",
        "from sklearn.metrics import classification_report\n",
        "from tensorflow.keras.models import Sequential\n",
        "from tensorflow.keras.layers import Flatten, Dense\n",
        "from tensorflow.keras.optimizers import SGD\n",
        "import numpy as np\n",
        "import cv2\n",
        "import glob\n",
        "import matplotlib.pyplot as plt\n",
        "import zipfile"
      ]
    },
    {
      "cell_type": "code",
      "source": [
        "!wget --load-cookies /tmp/cookies.txt \"https://docs.google.com/uc?export=download&confirm=$(wget --quiet --save-cookies /tmp/cookies.txt --keep-session-cookies --no-check-certificate 'https://docs.google.com/uc?export=download&id=1X4GLwa9dAL4J27Vz9PkymRreDh3s1wJa' -O- | sed -rn 's/.confirm=([0-9A-Za-z_]+)./\\1\\n/p')&id=1X4GLwa9dAL4J27Vz9PkymRreDh3s1wJa\" -O /tmp/dataset.zip && rm -rf /tmp/cookies.txt"
      ],
      "metadata": {
        "colab": {
          "base_uri": "https://localhost:8080/"
        },
        "id": "8-YjqPPdm57P",
        "outputId": "4b9ce4aa-24c3-4a25-abd3-e3673a2e142a"
      },
      "execution_count": 28,
      "outputs": [
        {
          "output_type": "stream",
          "name": "stdout",
          "text": [
            "--2022-01-28 16:15:31--  https://docs.google.com/uc?export=download&confirm=&id=1X4GLwa9dAL4J27Vz9PkymRreDh3s1wJa\n",
            "Resolving docs.google.com (docs.google.com)... 74.125.141.138, 74.125.141.102, 74.125.141.101, ...\n",
            "Connecting to docs.google.com (docs.google.com)|74.125.141.138|:443... connected.\n",
            "HTTP request sent, awaiting response... 302 Moved Temporarily\n",
            "Location: https://doc-0g-7s-docs.googleusercontent.com/docs/securesc/3o3q6np1793df8viqncm6rq14jvrrcfn/nhd840h9hif94520jsdrc5sfm07g90kh/1643386500000/11683109108014553869/07859792737494910909Z/1X4GLwa9dAL4J27Vz9PkymRreDh3s1wJa?e=download [following]\n",
            "--2022-01-28 16:15:33--  https://doc-0g-7s-docs.googleusercontent.com/docs/securesc/3o3q6np1793df8viqncm6rq14jvrrcfn/nhd840h9hif94520jsdrc5sfm07g90kh/1643386500000/11683109108014553869/07859792737494910909Z/1X4GLwa9dAL4J27Vz9PkymRreDh3s1wJa?e=download\n",
            "Resolving doc-0g-7s-docs.googleusercontent.com (doc-0g-7s-docs.googleusercontent.com)... 172.217.193.132, 2607:f8b0:400c:c03::84\n",
            "Connecting to doc-0g-7s-docs.googleusercontent.com (doc-0g-7s-docs.googleusercontent.com)|172.217.193.132|:443... connected.\n",
            "HTTP request sent, awaiting response... 302 Found\n",
            "Location: https://docs.google.com/nonceSigner?nonce=arfhnteh6phu6&continue=https://doc-0g-7s-docs.googleusercontent.com/docs/securesc/3o3q6np1793df8viqncm6rq14jvrrcfn/nhd840h9hif94520jsdrc5sfm07g90kh/1643386500000/11683109108014553869/07859792737494910909Z/1X4GLwa9dAL4J27Vz9PkymRreDh3s1wJa?e%3Ddownload&hash=530b8mfte19v8jt205c32cbjm8m8fh2f [following]\n",
            "--2022-01-28 16:15:33--  https://docs.google.com/nonceSigner?nonce=arfhnteh6phu6&continue=https://doc-0g-7s-docs.googleusercontent.com/docs/securesc/3o3q6np1793df8viqncm6rq14jvrrcfn/nhd840h9hif94520jsdrc5sfm07g90kh/1643386500000/11683109108014553869/07859792737494910909Z/1X4GLwa9dAL4J27Vz9PkymRreDh3s1wJa?e%3Ddownload&hash=530b8mfte19v8jt205c32cbjm8m8fh2f\n",
            "Connecting to docs.google.com (docs.google.com)|74.125.141.138|:443... connected.\n",
            "HTTP request sent, awaiting response... 302 Found\n",
            "Location: https://doc-0g-7s-docs.googleusercontent.com/docs/securesc/3o3q6np1793df8viqncm6rq14jvrrcfn/nhd840h9hif94520jsdrc5sfm07g90kh/1643386500000/11683109108014553869/07859792737494910909Z/1X4GLwa9dAL4J27Vz9PkymRreDh3s1wJa?e=download&nonce=arfhnteh6phu6&user=07859792737494910909Z&hash=698agdbvmv1udme6vrr8hoiahtvsdo09 [following]\n",
            "--2022-01-28 16:15:33--  https://doc-0g-7s-docs.googleusercontent.com/docs/securesc/3o3q6np1793df8viqncm6rq14jvrrcfn/nhd840h9hif94520jsdrc5sfm07g90kh/1643386500000/11683109108014553869/07859792737494910909Z/1X4GLwa9dAL4J27Vz9PkymRreDh3s1wJa?e=download&nonce=arfhnteh6phu6&user=07859792737494910909Z&hash=698agdbvmv1udme6vrr8hoiahtvsdo09\n",
            "Connecting to doc-0g-7s-docs.googleusercontent.com (doc-0g-7s-docs.googleusercontent.com)|172.217.193.132|:443... connected.\n",
            "HTTP request sent, awaiting response... 200 OK\n",
            "Length: 2023441 (1.9M) [application/x-zip-compressed]\n",
            "Saving to: ‘/tmp/dataset.zip’\n",
            "\n",
            "/tmp/dataset.zip    100%[===================>]   1.93M  --.-KB/s    in 0.01s   \n",
            "\n",
            "2022-01-28 16:15:33 (151 MB/s) - ‘/tmp/dataset.zip’ saved [2023441/2023441]\n",
            "\n"
          ]
        }
      ]
    },
    {
      "cell_type": "code",
      "source": [
        "local_zip = '/tmp/dataset.zip'\n",
        "zip_ref = zipfile.ZipFile(local_zip, 'r')\n",
        "zip_ref.extractall('/tmp')\n",
        "zip_ref.close()"
      ],
      "metadata": {
        "id": "N9PGdxVHnNzu"
      },
      "execution_count": 29,
      "outputs": []
    },
    {
      "cell_type": "code",
      "source": [
        "imagePaths = '/tmp/dataset/'\n",
        "label_list = ['daunsirih', 'lidahbuaya']\n",
        "data = []\n",
        "labels = []"
      ],
      "metadata": {
        "id": "pzCywf8xia6x"
      },
      "execution_count": 30,
      "outputs": []
    },
    {
      "cell_type": "code",
      "source": [
        "for label in label_list:\n",
        "    for imagePath in glob.glob(imagePaths+label+'/*.jpg'):\n",
        "        #print(imagePath)\n",
        "        image = cv2.imread(imagePath)\n",
        "        image = cv2.resize(image, (32, 32))\n",
        "        data.append(image)\n",
        "        labels.append(label)"
      ],
      "metadata": {
        "id": "hUR7B9JSicnO"
      },
      "execution_count": 31,
      "outputs": []
    },
    {
      "cell_type": "code",
      "source": [
        "np.array(data).shape"
      ],
      "metadata": {
        "colab": {
          "base_uri": "https://localhost:8080/"
        },
        "id": "XsB81I39ieCo",
        "outputId": "8144b6df-2f02-403d-a4e4-a352f1968823"
      },
      "execution_count": 32,
      "outputs": [
        {
          "output_type": "execute_result",
          "data": {
            "text/plain": [
              "(100, 32, 32, 3)"
            ]
          },
          "metadata": {},
          "execution_count": 32
        }
      ]
    },
    {
      "cell_type": "code",
      "source": [
        "# ubah type data dari list menjadi array\n",
        "# ubah nilai dari tiap pixel menjadi range [0..1]\n",
        "data = np.array(data, dtype='float') / 255.0\n",
        "labels = np.array(labels)"
      ],
      "metadata": {
        "id": "cEtGsoJLifQ4"
      },
      "execution_count": 33,
      "outputs": []
    },
    {
      "cell_type": "code",
      "source": [
        "print(labels)"
      ],
      "metadata": {
        "colab": {
          "base_uri": "https://localhost:8080/"
        },
        "id": "11AWkIDaihB4",
        "outputId": "1ae9bd26-16b9-46e1-8107-16039927b6e9"
      },
      "execution_count": 34,
      "outputs": [
        {
          "output_type": "stream",
          "name": "stdout",
          "text": [
            "['daunsirih' 'daunsirih' 'daunsirih' 'daunsirih' 'daunsirih' 'daunsirih'\n",
            " 'daunsirih' 'daunsirih' 'daunsirih' 'daunsirih' 'daunsirih' 'daunsirih'\n",
            " 'daunsirih' 'daunsirih' 'daunsirih' 'daunsirih' 'daunsirih' 'daunsirih'\n",
            " 'daunsirih' 'daunsirih' 'daunsirih' 'daunsirih' 'daunsirih' 'daunsirih'\n",
            " 'daunsirih' 'daunsirih' 'daunsirih' 'daunsirih' 'daunsirih' 'daunsirih'\n",
            " 'daunsirih' 'daunsirih' 'daunsirih' 'daunsirih' 'daunsirih' 'daunsirih'\n",
            " 'daunsirih' 'daunsirih' 'daunsirih' 'daunsirih' 'daunsirih' 'daunsirih'\n",
            " 'daunsirih' 'daunsirih' 'daunsirih' 'daunsirih' 'daunsirih' 'daunsirih'\n",
            " 'daunsirih' 'daunsirih' 'lidahbuaya' 'lidahbuaya' 'lidahbuaya'\n",
            " 'lidahbuaya' 'lidahbuaya' 'lidahbuaya' 'lidahbuaya' 'lidahbuaya'\n",
            " 'lidahbuaya' 'lidahbuaya' 'lidahbuaya' 'lidahbuaya' 'lidahbuaya'\n",
            " 'lidahbuaya' 'lidahbuaya' 'lidahbuaya' 'lidahbuaya' 'lidahbuaya'\n",
            " 'lidahbuaya' 'lidahbuaya' 'lidahbuaya' 'lidahbuaya' 'lidahbuaya'\n",
            " 'lidahbuaya' 'lidahbuaya' 'lidahbuaya' 'lidahbuaya' 'lidahbuaya'\n",
            " 'lidahbuaya' 'lidahbuaya' 'lidahbuaya' 'lidahbuaya' 'lidahbuaya'\n",
            " 'lidahbuaya' 'lidahbuaya' 'lidahbuaya' 'lidahbuaya' 'lidahbuaya'\n",
            " 'lidahbuaya' 'lidahbuaya' 'lidahbuaya' 'lidahbuaya' 'lidahbuaya'\n",
            " 'lidahbuaya' 'lidahbuaya' 'lidahbuaya' 'lidahbuaya' 'lidahbuaya'\n",
            " 'lidahbuaya' 'lidahbuaya']\n"
          ]
        }
      ]
    },
    {
      "cell_type": "code",
      "source": [
        "# ubah nilai dari labels menjadi binary\n",
        "lb = LabelEncoder()\n",
        "labels = lb.fit_transform(labels)\n",
        "print(labels)"
      ],
      "metadata": {
        "colab": {
          "base_uri": "https://localhost:8080/"
        },
        "id": "P_sUE094ij2P",
        "outputId": "696cbb55-28d7-4f0f-cc6d-6075fda4f11f"
      },
      "execution_count": 35,
      "outputs": [
        {
          "output_type": "stream",
          "name": "stdout",
          "text": [
            "[0 0 0 0 0 0 0 0 0 0 0 0 0 0 0 0 0 0 0 0 0 0 0 0 0 0 0 0 0 0 0 0 0 0 0 0 0\n",
            " 0 0 0 0 0 0 0 0 0 0 0 0 0 1 1 1 1 1 1 1 1 1 1 1 1 1 1 1 1 1 1 1 1 1 1 1 1\n",
            " 1 1 1 1 1 1 1 1 1 1 1 1 1 1 1 1 1 1 1 1 1 1 1 1 1 1]\n"
          ]
        }
      ]
    },
    {
      "cell_type": "code",
      "source": [
        "x_train, x_test, y_train, y_test = train_test_split(data, labels, test_size=0.2, random_state=42)"
      ],
      "metadata": {
        "id": "9eVxqYWuikbe"
      },
      "execution_count": 36,
      "outputs": []
    },
    {
      "cell_type": "code",
      "source": [
        "print('Ukuran data train =', x_train.shape)\n",
        "print('Ukuran data test =', x_test.shape)"
      ],
      "metadata": {
        "colab": {
          "base_uri": "https://localhost:8080/"
        },
        "id": "fVmxL7jWikg4",
        "outputId": "8a03ed92-a6e5-4ea7-bd18-c2cbbc1b16ec"
      },
      "execution_count": 37,
      "outputs": [
        {
          "output_type": "stream",
          "name": "stdout",
          "text": [
            "Ukuran data train = (80, 32, 32, 3)\n",
            "Ukuran data test = (20, 32, 32, 3)\n"
          ]
        }
      ]
    },
    {
      "cell_type": "code",
      "source": [
        "model = Sequential()\n",
        "model.add(Flatten(input_shape=(32,32,3)))\n",
        "model.add(Dense(1024, activation=\"relu\"))\n",
        "model.add(Dense(1024, activation=\"relu\"))\n",
        "model.add(Dense(1, activation=\"sigmoid\"))"
      ],
      "metadata": {
        "id": "R2YMijrainqB"
      },
      "execution_count": 38,
      "outputs": []
    },
    {
      "cell_type": "code",
      "source": [
        "model.summary()"
      ],
      "metadata": {
        "colab": {
          "base_uri": "https://localhost:8080/"
        },
        "id": "AiUNddRLiptp",
        "outputId": "68348184-725a-4108-e5c4-369addca54ad"
      },
      "execution_count": 39,
      "outputs": [
        {
          "output_type": "stream",
          "name": "stdout",
          "text": [
            "Model: \"sequential\"\n",
            "_________________________________________________________________\n",
            " Layer (type)                Output Shape              Param #   \n",
            "=================================================================\n",
            " flatten (Flatten)           (None, 3072)              0         \n",
            "                                                                 \n",
            " dense (Dense)               (None, 1024)              3146752   \n",
            "                                                                 \n",
            " dense_1 (Dense)             (None, 1024)              1049600   \n",
            "                                                                 \n",
            " dense_2 (Dense)             (None, 1)                 1025      \n",
            "                                                                 \n",
            "=================================================================\n",
            "Total params: 4,197,377\n",
            "Trainable params: 4,197,377\n",
            "Non-trainable params: 0\n",
            "_________________________________________________________________\n"
          ]
        }
      ]
    },
    {
      "cell_type": "code",
      "source": [
        "# tentukan hyperparameter\n",
        "lr = 0.01\n",
        "max_epochs = 100\n",
        "opt_funct = SGD(learning_rate=lr)"
      ],
      "metadata": {
        "id": "_CAaaSO3irHp"
      },
      "execution_count": 40,
      "outputs": []
    },
    {
      "cell_type": "code",
      "source": [
        "# compile arsitektur yang telah dibuat\n",
        "model.compile(loss = 'binary_crossentropy', \n",
        "              optimizer = opt_funct, \n",
        "              metrics = ['accuracy'])"
      ],
      "metadata": {
        "id": "6Q4iWoGjisc_"
      },
      "execution_count": 41,
      "outputs": []
    },
    {
      "cell_type": "code",
      "source": [
        "H = model.fit(x_train, y_train, validation_data=(x_test, y_test), \n",
        "          epochs=max_epochs, batch_size=32)"
      ],
      "metadata": {
        "colab": {
          "base_uri": "https://localhost:8080/"
        },
        "id": "EB2ZH-2SitzR",
        "outputId": "e4adf256-fe22-472c-b2d3-16d1836b530d"
      },
      "execution_count": 42,
      "outputs": [
        {
          "output_type": "stream",
          "name": "stdout",
          "text": [
            "Epoch 1/100\n",
            "3/3 [==============================] - 1s 132ms/step - loss: 1.2232 - accuracy: 0.5000 - val_loss: 1.5275 - val_accuracy: 0.4000\n",
            "Epoch 2/100\n",
            "3/3 [==============================] - 0s 40ms/step - loss: 0.8150 - accuracy: 0.5500 - val_loss: 1.0968 - val_accuracy: 0.6000\n",
            "Epoch 3/100\n",
            "3/3 [==============================] - 0s 41ms/step - loss: 1.1997 - accuracy: 0.5000 - val_loss: 0.7014 - val_accuracy: 0.4000\n",
            "Epoch 4/100\n",
            "3/3 [==============================] - 0s 43ms/step - loss: 0.6491 - accuracy: 0.5500 - val_loss: 0.6403 - val_accuracy: 0.8000\n",
            "Epoch 5/100\n",
            "3/3 [==============================] - 0s 41ms/step - loss: 0.7731 - accuracy: 0.5750 - val_loss: 0.6867 - val_accuracy: 0.6000\n",
            "Epoch 6/100\n",
            "3/3 [==============================] - 0s 41ms/step - loss: 0.6826 - accuracy: 0.5875 - val_loss: 0.6444 - val_accuracy: 0.7000\n",
            "Epoch 7/100\n",
            "3/3 [==============================] - 0s 44ms/step - loss: 0.6201 - accuracy: 0.7500 - val_loss: 0.9335 - val_accuracy: 0.4000\n",
            "Epoch 8/100\n",
            "3/3 [==============================] - 0s 39ms/step - loss: 0.8982 - accuracy: 0.4500 - val_loss: 0.6204 - val_accuracy: 0.6500\n",
            "Epoch 9/100\n",
            "3/3 [==============================] - 0s 40ms/step - loss: 0.6330 - accuracy: 0.5875 - val_loss: 0.7101 - val_accuracy: 0.4500\n",
            "Epoch 10/100\n",
            "3/3 [==============================] - 0s 41ms/step - loss: 0.5887 - accuracy: 0.7000 - val_loss: 0.6357 - val_accuracy: 0.6000\n",
            "Epoch 11/100\n",
            "3/3 [==============================] - 0s 44ms/step - loss: 0.5990 - accuracy: 0.5875 - val_loss: 0.5947 - val_accuracy: 0.7500\n",
            "Epoch 12/100\n",
            "3/3 [==============================] - 0s 55ms/step - loss: 0.5962 - accuracy: 0.6500 - val_loss: 0.6212 - val_accuracy: 0.7500\n",
            "Epoch 13/100\n",
            "3/3 [==============================] - 0s 40ms/step - loss: 0.5753 - accuracy: 0.6875 - val_loss: 0.7009 - val_accuracy: 0.5000\n",
            "Epoch 14/100\n",
            "3/3 [==============================] - 0s 37ms/step - loss: 0.7425 - accuracy: 0.4375 - val_loss: 0.7077 - val_accuracy: 0.6000\n",
            "Epoch 15/100\n",
            "3/3 [==============================] - 0s 43ms/step - loss: 0.6912 - accuracy: 0.5625 - val_loss: 0.6281 - val_accuracy: 0.6500\n",
            "Epoch 16/100\n",
            "3/3 [==============================] - 0s 41ms/step - loss: 0.5678 - accuracy: 0.7000 - val_loss: 0.8000 - val_accuracy: 0.4000\n",
            "Epoch 17/100\n",
            "3/3 [==============================] - 0s 47ms/step - loss: 0.5652 - accuracy: 0.7250 - val_loss: 0.5757 - val_accuracy: 0.8500\n",
            "Epoch 18/100\n",
            "3/3 [==============================] - 0s 42ms/step - loss: 0.6621 - accuracy: 0.6000 - val_loss: 1.2233 - val_accuracy: 0.4000\n",
            "Epoch 19/100\n",
            "3/3 [==============================] - 0s 45ms/step - loss: 0.7325 - accuracy: 0.6250 - val_loss: 0.7069 - val_accuracy: 0.5000\n",
            "Epoch 20/100\n",
            "3/3 [==============================] - 0s 42ms/step - loss: 0.6488 - accuracy: 0.5125 - val_loss: 0.5875 - val_accuracy: 0.6000\n",
            "Epoch 21/100\n",
            "3/3 [==============================] - 0s 43ms/step - loss: 0.7537 - accuracy: 0.4375 - val_loss: 0.6274 - val_accuracy: 0.6000\n",
            "Epoch 22/100\n",
            "3/3 [==============================] - 0s 37ms/step - loss: 0.5556 - accuracy: 0.7000 - val_loss: 0.5739 - val_accuracy: 0.6000\n",
            "Epoch 23/100\n",
            "3/3 [==============================] - 0s 43ms/step - loss: 0.5348 - accuracy: 0.8500 - val_loss: 0.5904 - val_accuracy: 0.7500\n",
            "Epoch 24/100\n",
            "3/3 [==============================] - 0s 41ms/step - loss: 0.5204 - accuracy: 0.8375 - val_loss: 0.5700 - val_accuracy: 0.8000\n",
            "Epoch 25/100\n",
            "3/3 [==============================] - 0s 41ms/step - loss: 0.5200 - accuracy: 0.8750 - val_loss: 1.2095 - val_accuracy: 0.4000\n",
            "Epoch 26/100\n",
            "3/3 [==============================] - 0s 41ms/step - loss: 0.7787 - accuracy: 0.5000 - val_loss: 0.5683 - val_accuracy: 0.9000\n",
            "Epoch 27/100\n",
            "3/3 [==============================] - 0s 41ms/step - loss: 0.5165 - accuracy: 0.8375 - val_loss: 0.6732 - val_accuracy: 0.5000\n",
            "Epoch 28/100\n",
            "3/3 [==============================] - 0s 44ms/step - loss: 0.5762 - accuracy: 0.6000 - val_loss: 0.5711 - val_accuracy: 0.7000\n",
            "Epoch 29/100\n",
            "3/3 [==============================] - 0s 42ms/step - loss: 0.5056 - accuracy: 0.8375 - val_loss: 0.5398 - val_accuracy: 0.9000\n",
            "Epoch 30/100\n",
            "3/3 [==============================] - 0s 43ms/step - loss: 0.5256 - accuracy: 0.8250 - val_loss: 0.8613 - val_accuracy: 0.4000\n",
            "Epoch 31/100\n",
            "3/3 [==============================] - 0s 42ms/step - loss: 0.5893 - accuracy: 0.6125 - val_loss: 0.6306 - val_accuracy: 0.6000\n",
            "Epoch 32/100\n",
            "3/3 [==============================] - 0s 41ms/step - loss: 0.8879 - accuracy: 0.3625 - val_loss: 1.0883 - val_accuracy: 0.4000\n",
            "Epoch 33/100\n",
            "3/3 [==============================] - 0s 40ms/step - loss: 0.7169 - accuracy: 0.6250 - val_loss: 0.7072 - val_accuracy: 0.5000\n",
            "Epoch 34/100\n",
            "3/3 [==============================] - 0s 39ms/step - loss: 0.5574 - accuracy: 0.7000 - val_loss: 0.7260 - val_accuracy: 0.5000\n",
            "Epoch 35/100\n",
            "3/3 [==============================] - 0s 40ms/step - loss: 0.5202 - accuracy: 0.7750 - val_loss: 0.5903 - val_accuracy: 0.6500\n",
            "Epoch 36/100\n",
            "3/3 [==============================] - 0s 41ms/step - loss: 0.5238 - accuracy: 0.8250 - val_loss: 0.5488 - val_accuracy: 0.6000\n",
            "Epoch 37/100\n",
            "3/3 [==============================] - 0s 46ms/step - loss: 0.5984 - accuracy: 0.6125 - val_loss: 0.6527 - val_accuracy: 0.5500\n",
            "Epoch 38/100\n",
            "3/3 [==============================] - 0s 40ms/step - loss: 0.6324 - accuracy: 0.5375 - val_loss: 0.5577 - val_accuracy: 0.6000\n",
            "Epoch 39/100\n",
            "3/3 [==============================] - 0s 44ms/step - loss: 0.6118 - accuracy: 0.6000 - val_loss: 0.5336 - val_accuracy: 0.8500\n",
            "Epoch 40/100\n",
            "3/3 [==============================] - 0s 41ms/step - loss: 0.5710 - accuracy: 0.6625 - val_loss: 0.5302 - val_accuracy: 0.7000\n",
            "Epoch 41/100\n",
            "3/3 [==============================] - 0s 41ms/step - loss: 0.4871 - accuracy: 0.8500 - val_loss: 0.5177 - val_accuracy: 0.9500\n",
            "Epoch 42/100\n",
            "3/3 [==============================] - 0s 43ms/step - loss: 0.4792 - accuracy: 0.8375 - val_loss: 0.5290 - val_accuracy: 0.7000\n",
            "Epoch 43/100\n",
            "3/3 [==============================] - 0s 42ms/step - loss: 0.6630 - accuracy: 0.5375 - val_loss: 0.6556 - val_accuracy: 0.5500\n",
            "Epoch 44/100\n",
            "3/3 [==============================] - 0s 41ms/step - loss: 0.4961 - accuracy: 0.7625 - val_loss: 0.5212 - val_accuracy: 0.9000\n",
            "Epoch 45/100\n",
            "3/3 [==============================] - 0s 43ms/step - loss: 0.4652 - accuracy: 0.8375 - val_loss: 0.5219 - val_accuracy: 0.8500\n",
            "Epoch 46/100\n",
            "3/3 [==============================] - 0s 42ms/step - loss: 0.4919 - accuracy: 0.7875 - val_loss: 0.5599 - val_accuracy: 0.6000\n",
            "Epoch 47/100\n",
            "3/3 [==============================] - 0s 43ms/step - loss: 0.4794 - accuracy: 0.8125 - val_loss: 0.4979 - val_accuracy: 0.9500\n",
            "Epoch 48/100\n",
            "3/3 [==============================] - 0s 41ms/step - loss: 0.5431 - accuracy: 0.7250 - val_loss: 1.2323 - val_accuracy: 0.4000\n",
            "Epoch 49/100\n",
            "3/3 [==============================] - 0s 44ms/step - loss: 0.5713 - accuracy: 0.7125 - val_loss: 0.5435 - val_accuracy: 0.7500\n",
            "Epoch 50/100\n",
            "3/3 [==============================] - 0s 37ms/step - loss: 0.4495 - accuracy: 0.8750 - val_loss: 0.5168 - val_accuracy: 0.8000\n",
            "Epoch 51/100\n",
            "3/3 [==============================] - 0s 41ms/step - loss: 0.4370 - accuracy: 0.9000 - val_loss: 1.4026 - val_accuracy: 0.4000\n",
            "Epoch 52/100\n",
            "3/3 [==============================] - 0s 43ms/step - loss: 0.5765 - accuracy: 0.7500 - val_loss: 0.5297 - val_accuracy: 0.7000\n",
            "Epoch 53/100\n",
            "3/3 [==============================] - 0s 41ms/step - loss: 0.4674 - accuracy: 0.8125 - val_loss: 0.5147 - val_accuracy: 0.7000\n",
            "Epoch 54/100\n",
            "3/3 [==============================] - 0s 47ms/step - loss: 0.5492 - accuracy: 0.6625 - val_loss: 1.0450 - val_accuracy: 0.4000\n",
            "Epoch 55/100\n",
            "3/3 [==============================] - 0s 41ms/step - loss: 0.6943 - accuracy: 0.6125 - val_loss: 0.5237 - val_accuracy: 0.6500\n",
            "Epoch 56/100\n",
            "3/3 [==============================] - 0s 42ms/step - loss: 0.5097 - accuracy: 0.7500 - val_loss: 0.6030 - val_accuracy: 0.5500\n",
            "Epoch 57/100\n",
            "3/3 [==============================] - 0s 44ms/step - loss: 0.4895 - accuracy: 0.7875 - val_loss: 0.5833 - val_accuracy: 0.6000\n",
            "Epoch 58/100\n",
            "3/3 [==============================] - 0s 40ms/step - loss: 0.6026 - accuracy: 0.6125 - val_loss: 0.5308 - val_accuracy: 0.7500\n",
            "Epoch 59/100\n",
            "3/3 [==============================] - 0s 42ms/step - loss: 0.4921 - accuracy: 0.8000 - val_loss: 0.5390 - val_accuracy: 0.6000\n",
            "Epoch 60/100\n",
            "3/3 [==============================] - 0s 44ms/step - loss: 0.5243 - accuracy: 0.6875 - val_loss: 0.5135 - val_accuracy: 0.7500\n",
            "Epoch 61/100\n",
            "3/3 [==============================] - 0s 41ms/step - loss: 0.4247 - accuracy: 0.8750 - val_loss: 0.6684 - val_accuracy: 0.5500\n",
            "Epoch 62/100\n",
            "3/3 [==============================] - 0s 45ms/step - loss: 0.4273 - accuracy: 0.8125 - val_loss: 0.4863 - val_accuracy: 0.7500\n",
            "Epoch 63/100\n",
            "3/3 [==============================] - 0s 44ms/step - loss: 0.5056 - accuracy: 0.7125 - val_loss: 0.8871 - val_accuracy: 0.4500\n",
            "Epoch 64/100\n",
            "3/3 [==============================] - 0s 43ms/step - loss: 0.4943 - accuracy: 0.7500 - val_loss: 0.4859 - val_accuracy: 0.8500\n",
            "Epoch 65/100\n",
            "3/3 [==============================] - 0s 41ms/step - loss: 0.4208 - accuracy: 0.8750 - val_loss: 0.6018 - val_accuracy: 0.6000\n",
            "Epoch 66/100\n",
            "3/3 [==============================] - 0s 42ms/step - loss: 0.8450 - accuracy: 0.5250 - val_loss: 0.5475 - val_accuracy: 0.7000\n",
            "Epoch 67/100\n",
            "3/3 [==============================] - 0s 45ms/step - loss: 0.4383 - accuracy: 0.8500 - val_loss: 0.4821 - val_accuracy: 0.9000\n",
            "Epoch 68/100\n",
            "3/3 [==============================] - 0s 43ms/step - loss: 0.4152 - accuracy: 0.9125 - val_loss: 0.4878 - val_accuracy: 0.7000\n",
            "Epoch 69/100\n",
            "3/3 [==============================] - 0s 40ms/step - loss: 0.6844 - accuracy: 0.5625 - val_loss: 0.7762 - val_accuracy: 0.5000\n",
            "Epoch 70/100\n",
            "3/3 [==============================] - 0s 42ms/step - loss: 0.4522 - accuracy: 0.8125 - val_loss: 0.4709 - val_accuracy: 0.9500\n",
            "Epoch 71/100\n",
            "3/3 [==============================] - 0s 45ms/step - loss: 0.4083 - accuracy: 0.8500 - val_loss: 0.5632 - val_accuracy: 0.7000\n",
            "Epoch 72/100\n",
            "3/3 [==============================] - 0s 41ms/step - loss: 0.5423 - accuracy: 0.6875 - val_loss: 0.4765 - val_accuracy: 0.7500\n",
            "Epoch 73/100\n",
            "3/3 [==============================] - 0s 42ms/step - loss: 0.5194 - accuracy: 0.7000 - val_loss: 0.5326 - val_accuracy: 0.7000\n",
            "Epoch 74/100\n",
            "3/3 [==============================] - 0s 43ms/step - loss: 0.3895 - accuracy: 0.8625 - val_loss: 0.4512 - val_accuracy: 0.9000\n",
            "Epoch 75/100\n",
            "3/3 [==============================] - 0s 41ms/step - loss: 0.4178 - accuracy: 0.8500 - val_loss: 0.7421 - val_accuracy: 0.5500\n",
            "Epoch 76/100\n",
            "3/3 [==============================] - 0s 43ms/step - loss: 0.4135 - accuracy: 0.8125 - val_loss: 0.9158 - val_accuracy: 0.5000\n",
            "Epoch 77/100\n",
            "3/3 [==============================] - 0s 42ms/step - loss: 0.6842 - accuracy: 0.6250 - val_loss: 0.8223 - val_accuracy: 0.5000\n",
            "Epoch 78/100\n",
            "3/3 [==============================] - 0s 42ms/step - loss: 0.4714 - accuracy: 0.8125 - val_loss: 0.5196 - val_accuracy: 0.7000\n",
            "Epoch 79/100\n",
            "3/3 [==============================] - 0s 49ms/step - loss: 0.3909 - accuracy: 0.8750 - val_loss: 0.5950 - val_accuracy: 0.5500\n",
            "Epoch 80/100\n",
            "3/3 [==============================] - 0s 43ms/step - loss: 0.4904 - accuracy: 0.7625 - val_loss: 0.5699 - val_accuracy: 0.6000\n",
            "Epoch 81/100\n",
            "3/3 [==============================] - 0s 42ms/step - loss: 0.7070 - accuracy: 0.5750 - val_loss: 0.5413 - val_accuracy: 0.7000\n",
            "Epoch 82/100\n",
            "3/3 [==============================] - 0s 40ms/step - loss: 0.4184 - accuracy: 0.8500 - val_loss: 0.4543 - val_accuracy: 0.9500\n",
            "Epoch 83/100\n",
            "3/3 [==============================] - 0s 45ms/step - loss: 0.4079 - accuracy: 0.8500 - val_loss: 0.5406 - val_accuracy: 0.7000\n",
            "Epoch 84/100\n",
            "3/3 [==============================] - 0s 42ms/step - loss: 0.5767 - accuracy: 0.6875 - val_loss: 0.4870 - val_accuracy: 0.8000\n",
            "Epoch 85/100\n",
            "3/3 [==============================] - 0s 41ms/step - loss: 0.4082 - accuracy: 0.8750 - val_loss: 0.4479 - val_accuracy: 0.9000\n",
            "Epoch 86/100\n",
            "3/3 [==============================] - 0s 41ms/step - loss: 0.3990 - accuracy: 0.8250 - val_loss: 0.5879 - val_accuracy: 0.6000\n",
            "Epoch 87/100\n",
            "3/3 [==============================] - 0s 44ms/step - loss: 0.4462 - accuracy: 0.7375 - val_loss: 0.5130 - val_accuracy: 0.6500\n",
            "Epoch 88/100\n",
            "3/3 [==============================] - 0s 42ms/step - loss: 0.3936 - accuracy: 0.9000 - val_loss: 0.5643 - val_accuracy: 0.6500\n",
            "Epoch 89/100\n",
            "3/3 [==============================] - 0s 42ms/step - loss: 0.5103 - accuracy: 0.7375 - val_loss: 0.9598 - val_accuracy: 0.6000\n",
            "Epoch 90/100\n",
            "3/3 [==============================] - 0s 42ms/step - loss: 0.7171 - accuracy: 0.7000 - val_loss: 0.4782 - val_accuracy: 0.8000\n",
            "Epoch 91/100\n",
            "3/3 [==============================] - 0s 45ms/step - loss: 0.4234 - accuracy: 0.7750 - val_loss: 0.5412 - val_accuracy: 0.7000\n",
            "Epoch 92/100\n",
            "3/3 [==============================] - 0s 43ms/step - loss: 0.4067 - accuracy: 0.8625 - val_loss: 0.4288 - val_accuracy: 0.9500\n",
            "Epoch 93/100\n",
            "3/3 [==============================] - 0s 41ms/step - loss: 0.3896 - accuracy: 0.8375 - val_loss: 0.8175 - val_accuracy: 0.5000\n",
            "Epoch 94/100\n",
            "3/3 [==============================] - 0s 45ms/step - loss: 0.5357 - accuracy: 0.6875 - val_loss: 0.4429 - val_accuracy: 0.9500\n",
            "Epoch 95/100\n",
            "3/3 [==============================] - 0s 42ms/step - loss: 0.3704 - accuracy: 0.8750 - val_loss: 0.5455 - val_accuracy: 0.7000\n",
            "Epoch 96/100\n",
            "3/3 [==============================] - 0s 48ms/step - loss: 0.3873 - accuracy: 0.8500 - val_loss: 0.4341 - val_accuracy: 0.9000\n",
            "Epoch 97/100\n",
            "3/3 [==============================] - 0s 45ms/step - loss: 0.3466 - accuracy: 0.9000 - val_loss: 0.4251 - val_accuracy: 0.9500\n",
            "Epoch 98/100\n",
            "3/3 [==============================] - 0s 44ms/step - loss: 0.3660 - accuracy: 0.8375 - val_loss: 1.1255 - val_accuracy: 0.4500\n",
            "Epoch 99/100\n",
            "3/3 [==============================] - 0s 44ms/step - loss: 0.5715 - accuracy: 0.6625 - val_loss: 0.4429 - val_accuracy: 0.9500\n",
            "Epoch 100/100\n",
            "3/3 [==============================] - 0s 44ms/step - loss: 0.4299 - accuracy: 0.8000 - val_loss: 1.0761 - val_accuracy: 0.4000\n"
          ]
        }
      ]
    },
    {
      "cell_type": "code",
      "source": [
        "N = np.arange(0, max_epochs)\n",
        "plt.style.use(\"ggplot\")\n",
        "plt.figure()\n",
        "plt.plot(N, H.history[\"loss\"], label=\"train_loss\")\n",
        "plt.plot(N, H.history[\"val_loss\"], label=\"val_loss\")\n",
        "#plt.plot(N, H.history[\"accuracy\"], label=\"train_acc\")\n",
        "#plt.plot(N, H.history[\"val_accuracy\"], label=\"val_acc\")\n",
        "plt.xlabel(\"Epoch #\")\n",
        "plt.legend()\n",
        "plt.show()"
      ],
      "metadata": {
        "colab": {
          "base_uri": "https://localhost:8080/",
          "height": 282
        },
        "id": "DwbZzjXRivEl",
        "outputId": "5f5b4b77-2930-4fbe-b475-bb6ee5cf9e30"
      },
      "execution_count": 43,
      "outputs": [
        {
          "output_type": "display_data",
          "data": {
            "image/png": "[encoded data removed]",
            "text/plain": [
              "<Figure size 432x288 with 1 Axes>"
            ]
          },
          "metadata": {}
        }
      ]
    },
    {
      "cell_type": "code",
      "source": [
        "# menghitung nilai akurasi model terhadap data test\n",
        "predictions = model.predict(x_test, batch_size=32)\n",
        "target = (predictions > 0.5).astype(np.int)\n",
        "print(classification_report(y_test, target, target_names=label_list))"
      ],
      "metadata": {
        "colab": {
          "base_uri": "https://localhost:8080/"
        },
        "id": "AjwOcWoiiwwQ",
        "outputId": "747f7ebf-4ed2-4767-ae24-3f4d484afc3f"
      },
      "execution_count": 44,
      "outputs": [
        {
          "output_type": "stream",
          "name": "stdout",
          "text": [
            "              precision    recall  f1-score   support\n",
            "\n",
            "   daunsirih       0.00      0.00      0.00        12\n",
            "  lidahbuaya       0.40      1.00      0.57         8\n",
            "\n",
            "    accuracy                           0.40        20\n",
            "   macro avg       0.20      0.50      0.29        20\n",
            "weighted avg       0.16      0.40      0.23        20\n",
            "\n"
          ]
        },
        {
          "output_type": "stream",
          "name": "stderr",
          "text": [
            "/usr/local/lib/python3.7/dist-packages/sklearn/metrics/_classification.py:1318: UndefinedMetricWarning: Precision and F-score are ill-defined and being set to 0.0 in labels with no predicted samples. Use `zero_division` parameter to control this behavior.\n",
            "  _warn_prf(average, modifier, msg_start, len(result))\n",
            "/usr/local/lib/python3.7/dist-packages/sklearn/metrics/_classification.py:1318: UndefinedMetricWarning: Precision and F-score are ill-defined and being set to 0.0 in labels with no predicted samples. Use `zero_division` parameter to control this behavior.\n",
            "  _warn_prf(average, modifier, msg_start, len(result))\n",
            "/usr/local/lib/python3.7/dist-packages/sklearn/metrics/_classification.py:1318: UndefinedMetricWarning: Precision and F-score are ill-defined and being set to 0.0 in labels with no predicted samples. Use `zero_division` parameter to control this behavior.\n",
            "  _warn_prf(average, modifier, msg_start, len(result))\n"
          ]
        }
      ]
    },
    {
      "cell_type": "code",
      "source": [
        "# uji model menggunakan image lain\n",
        "queryPath = imagePaths+'/daunsirih/daunsirih (1).jpg'\n",
        "query = cv2.imread(queryPath)\n",
        "output = query.copy()\n",
        "query = cv2.resize(query, (32, 32))\n",
        "q = []\n",
        "q.append(query)\n",
        "q = np.array(q, dtype='float') / 255.0\n",
        "\n",
        "q_pred = model.predict(q)\n",
        "print(q_pred)"
      ],
      "metadata": {
        "colab": {
          "base_uri": "https://localhost:8080/"
        },
        "id": "Kfr-kNGJiyGQ",
        "outputId": "9ee64ecf-f223-441a-c085-bdcbaf0db57f"
      },
      "execution_count": 45,
      "outputs": [
        {
          "output_type": "stream",
          "name": "stdout",
          "text": [
            "[[0.8828062]]\n"
          ]
        }
      ]
    },
    {
      "cell_type": "code",
      "source": [
        "if q_pred<=0.5 :\n",
        "    target = \"lidahbuaya\"\n",
        "else :\n",
        "    target = \"daunsirih\"\n",
        "\n",
        "print(target)\n",
        "# text = \"{}\".format(target)\n",
        "# cv2.putText(output, text, (10, 30), cv2.FONT_HERSHEY_SIMPLEX, 0.7, (0, 0, 255), 2)\n",
        " \n",
        "# # menampilkan output image\n",
        "# cv2.imshow('Output', output)\n",
        "# cv2.waitKey() # image tidak akan diclose,sebelum user menekan sembarang tombol\n",
        "# cv2.destroyWindow('Output') # image akan diclose"
      ],
      "metadata": {
        "colab": {
          "base_uri": "https://localhost:8080/"
        },
        "id": "3dv9ioTUizoL",
        "outputId": "75dc8c67-322f-4eb9-f059-bb749bb8b96b"
      },
      "execution_count": 48,
      "outputs": [
        {
          "output_type": "stream",
          "name": "stdout",
          "text": [
            "daunsirih\n"
          ]
        }
      ]
    },
    {
      "cell_type": "code",
      "source": [
        "model.save('sirihlidahbuaya.h5')"
      ],
      "metadata": {
        "id": "LEoUme2Ai1EG"
      },
      "execution_count": 47,
      "outputs": []
    }
  ]
}